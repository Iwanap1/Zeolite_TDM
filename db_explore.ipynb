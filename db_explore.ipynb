{
 "cells": [
  {
   "cell_type": "code",
   "execution_count": 4,
   "metadata": {},
   "outputs": [],
   "source": [
    "# notebook for monitoring the pipeline\n",
    "\n",
    "from db_queries import *\n",
    "client = MongoClient(\"mongodb://localhost:27017/\")\n",
    "db = client[\"zeolite_tdm\"]\n",
    "tables = db['tables']\n",
    "papers = db['papers']"
   ]
  },
  {
   "cell_type": "code",
   "execution_count": 7,
   "metadata": {},
   "outputs": [
    {
     "name": "stdout",
     "output_type": "stream",
     "text": [
      "DOC COUNTS\n",
      "================\n",
      "  - papers: 36 documents\n",
      "  - paragraphs: 113 documents\n",
      "  - tables: 83 documents\n"
     ]
    }
   ],
   "source": [
    "report_collection_counts()"
   ]
  },
  {
   "cell_type": "code",
   "execution_count": 8,
   "metadata": {},
   "outputs": [
    {
     "name": "stdout",
     "output_type": "stream",
     "text": [
      "STATUS REPORT\n",
      "================\n",
      "- awaiting table extraction: 33\n",
      "- None: 3\n"
     ]
    }
   ],
   "source": [
    "status_report()"
   ]
  },
  {
   "cell_type": "code",
   "execution_count": 9,
   "metadata": {},
   "outputs": [
    {
     "ename": "NameError",
     "evalue": "name 'rejection_report' is not defined",
     "output_type": "error",
     "traceback": [
      "\u001b[0;31m---------------------------------------------------------------------------\u001b[0m",
      "\u001b[0;31mNameError\u001b[0m                                 Traceback (most recent call last)",
      "Cell \u001b[0;32mIn[9], line 1\u001b[0m\n\u001b[0;32m----> 1\u001b[0m rejection_report()\n",
      "\u001b[0;31mNameError\u001b[0m: name 'rejection_report' is not defined"
     ]
    }
   ],
   "source": [
    "rejection_report()"
   ]
  },
  {
   "cell_type": "code",
   "execution_count": 5,
   "metadata": {},
   "outputs": [
    {
     "data": {
      "text/plain": [
       "{'_id': ObjectId('681a05717b98a6eeee084ff2'),\n",
       " 'file_path': 'pii:S092633732500342X',\n",
       " 'type': 'fla',\n",
       " 'title': 'Engineering porous Beta zeolite-encapsulated nickel catalyst for waste polyolefins upcycling ',\n",
       " 'doi': '10.1016/j.apcatb.2025.125359',\n",
       " 'authors': ['Zhan, Jiahui',\n",
       "  'Li, Lin',\n",
       "  'Dai, Ruihong',\n",
       "  'Wei, Baohuan',\n",
       "  'Luo, Hu',\n",
       "  'Cong, Rongfei',\n",
       "  'Zhou, Haozhi',\n",
       "  'Xia, Lin',\n",
       "  'Liu, Xiaofang',\n",
       "  'Zhang, Shunan',\n",
       "  'Zhang, Shicheng',\n",
       "  'Wang, Hui',\n",
       "  'Sun, Yuhan'],\n",
       " 'year': '2025',\n",
       " 'publication': 'Applied Catalysis B: Environment and Energy',\n",
       " 'keywords': ['Hydrocracking',\n",
       "  'Hierarchical 10Ni@Beta',\n",
       "  'Dissolution-recrystallization',\n",
       "  'Naphtha',\n",
       "  'Waste polyolefins'],\n",
       " 'abstract': 'Upcycling plastic wastes through hydrocracking represents an efficient and promising way to produce high-value fuels and chemicals, which faces significant challenges using non-noble metal catalysts. Here, we reported a closed-loop strategy using 10Ni@Beta catalyst to convert low-density polyethylene (LDPE) into naphtha (C5-C9 hydrocarbons), a major feedstock to reproduce polyolefins. The hierarchically porous Beta zeolite was constructed while encapsulating 10\\u202f% Ni loading through controlled dissolution-recrystallization. An 88.0\\u202f% liquid yield was obtained and the selectivity of naphtha reached 99.1\\u202f% at 250\\u202f°C within 2\\u202fh reaction, surpassing previously reported Pt-based catalysts. The engineered meso-microporous architecture with confined Ni nanoparticles mimicked the mechanism of enzyme-catalyzed process, where the initial cracked LDPE fragments at surface acid were selectively transferred into mesopore channels and further screened by micropores with suitable size to contact Ni sites for hydrogenation. This designed porous catalyst matched the tandem catalytic process of multiple real-life polyolefins, enabling the industrial upcycling of plastic wastes.',\n",
       " 'rejected_because': 'accepted',\n",
       " 'status': 'awaiting table extraction',\n",
       " 'extract': '<header>Beta zeolite<text>Beta zeolite was prepared via the hydrothermal method. Initially, a gel mixture with a molar composition of 1Al2O3: 50SiO2: 10TEAOH: 495H2O was prepared and stirred at room temperature for 24 h. Then it was transferred to a stainless-steel autoclave lined with polytetrafluoroethylene and crystallized in an oven at 140 C. Finally, the obtained solid product was collected by centrifugation, washed and dried at 80 C, and calcined in a muffle furnace at 550 C for 8 h to remove the template agent.<header>Ni@Beta<text>The Ni@Beta catalyst was synthesized via a dissolution-recrystallization method. Initially, Ni(NO3)2-6H2O was dissolved in water, followed by the addition of Beta zeolite (Si/Al ratio of 25). The mixture was stirred until complete evaporation of water. Subsequently, a 35 wt% tetraethylammonium hydroxide (TEAOH) solution (pH ∼15.22) was introduced, adjusting the final pH to approximately 13.49. The resulting mixture was then transferred into a polytetrafluoroethylene-lined stainless-steel autoclave and subjected to hydrothermal crystallization at 140 C. After centrifugal washing, the solid product was dried at 100 C, calcined at 550 C for 8 h, and ultimately reduced at 750 C for 1 h in a 5 % H2/95 % Ar atmosphere.<header>Ni/Beta<text>The Ni/Beta catalyst was prepared using incipient wetness impregnation. A Ni(NO3)2·6H2O solution was added dropwise onto Beta zeolite. The mixture was then aged at room temperature for 8 h, followed by calcination in air at 550 C for 8 h, and finally reduced at 750 C for 1 h within a 5 % H2/95 % Ar atmosphere.'}"
      ]
     },
     "execution_count": 5,
     "metadata": {},
     "output_type": "execute_result"
    }
   ],
   "source": [
    "papers.find_one({'status': 'awaiting table extraction'})"
   ]
  }
 ],
 "metadata": {
  "kernelspec": {
   "display_name": "new_base",
   "language": "python",
   "name": "python3"
  },
  "language_info": {
   "codemirror_mode": {
    "name": "ipython",
    "version": 3
   },
   "file_extension": ".py",
   "mimetype": "text/x-python",
   "name": "python",
   "nbconvert_exporter": "python",
   "pygments_lexer": "ipython3",
   "version": "3.12.7"
  }
 },
 "nbformat": 4,
 "nbformat_minor": 2
}
