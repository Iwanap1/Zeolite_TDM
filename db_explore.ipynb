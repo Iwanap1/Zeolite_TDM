{
 "cells": [
  {
   "cell_type": "code",
   "execution_count": 8,
   "metadata": {},
   "outputs": [
    {
     "name": "stderr",
     "output_type": "stream",
     "text": [
      "/var/folders/8_/h3p7rj817jq__tbf5rl73rq80000gn/T/ipykernel_32460/3208119278.py:5: UserWarning: You appear to be connected to a CosmosDB cluster. For more information regarding feature compatibility and support please visit https://www.mongodb.com/supportability/cosmosdb\n",
      "  client = MongoClient(os.getenv(\"MONGO\"))\n"
     ]
    }
   ],
   "source": [
    "# notebook for monitoring the pipeline\n",
    "import os\n",
    "from db_queries import *\n",
    "\n",
    "client = MongoClient(os.getenv(\"MONGO\"))\n",
    "db = client[\"zeolite_tdm\"]"
   ]
  },
  {
   "cell_type": "code",
   "execution_count": 15,
   "metadata": {},
   "outputs": [
    {
     "name": "stdout",
     "output_type": "stream",
     "text": [
      "DOC COUNTS\n",
      "================\n",
      "  - papers: 0 documents\n",
      "  - paragraphs: 0 documents\n",
      "  - tables: 0 documents\n"
     ]
    }
   ],
   "source": [
    "report_collection_counts(db)"
   ]
  },
  {
   "cell_type": "code",
   "execution_count": 16,
   "metadata": {},
   "outputs": [
    {
     "name": "stdout",
     "output_type": "stream",
     "text": [
      "STATUS REPORT\n",
      "================\n"
     ]
    }
   ],
   "source": [
    "status_report(db)"
   ]
  },
  {
   "cell_type": "code",
   "execution_count": 6,
   "metadata": {},
   "outputs": [
    {
     "data": {
      "text/plain": [
       "{'_id': ObjectId('681dfe7a07d8709732af5a41'),\n",
       " 'doi': '10.1016/j.micromeso.2023.112761',\n",
       " 'batch': 11,\n",
       " 'file_path': 'pii:S1387181123003372',\n",
       " 'type': 'rev',\n",
       " 'title': 'Advances in design of heterogeneous catalysts for pyrolysis of lignocellulosic biomass and bio-oil upgrading ',\n",
       " 'authors': ['Grams, Jacek', 'Jankowska, Agata', 'Goscianska, Joanna'],\n",
       " 'year': '2023',\n",
       " 'publication': 'Microporous and Mesoporous Materials',\n",
       " 'keywords': ['Thermal conversion',\n",
       "  'Biomass',\n",
       "  'Catalyst modification',\n",
       "  'Mesoporous silica materials',\n",
       "  'Zeolite',\n",
       "  'Biochar'],\n",
       " 'abstract': 'Lignocellulosic biomass can be converted into more valuable products by high-temperature treatment causing the formation of bio-oil. However, the complex structure of lignocellulosic feedstock is responsible for the low selectivity of targeted products. This problem can be overcome by the use of heterogeneous catalysts leading to an increase in the efficiency of biomass decomposition and an improvement in bio-oil quality. Their high catalytic activity can be ensured by high surface area, high dispersion of active phase, optimal pore structure, hydrothermal stability, hydrophobicity, and appropriate acid-base properties. On the other hand, heterogeneous catalysts may suffer from insufficient selectivity or relatively fast coke formation. Literature shows that studies focusing on the design of competitive catalysts for biomass pyrolysis are still in progress. They are mainly related to the use of silica-based materials (zeolites, mesoporous silicas, hierarchical and core-shell systems, and introduction of metal dopants), biochar-based materials, metal oxides, supported metal catalysts, natural and waste materials. Due to the growing popularity of this research, the paper is focused on the discussion concerning the latest trends in the development of the catalyst for the thermal conversion of lignocellulosic feedstock and bio-oil upgrading.',\n",
       " 'rejected_because': 'accepted',\n",
       " 'status': 'awaiting paragraph classification'}"
      ]
     },
     "execution_count": 6,
     "metadata": {},
     "output_type": "execute_result"
    }
   ],
   "source": [
    "list(db['papers'].find({'type': 'rev'}))[-1]"
   ]
  }
 ],
 "metadata": {
  "kernelspec": {
   "display_name": "new_base",
   "language": "python",
   "name": "python3"
  },
  "language_info": {
   "codemirror_mode": {
    "name": "ipython",
    "version": 3
   },
   "file_extension": ".py",
   "mimetype": "text/x-python",
   "name": "python",
   "nbconvert_exporter": "python",
   "pygments_lexer": "ipython3",
   "version": "3.12.7"
  }
 },
 "nbformat": 4,
 "nbformat_minor": 2
}
